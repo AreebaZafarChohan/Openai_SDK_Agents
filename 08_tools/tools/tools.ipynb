{
 "cells": [
  {
   "cell_type": "markdown",
   "id": "510e8d8c",
   "metadata": {},
   "source": [
    "Install openai-agents SDK"
   ]
  },
  {
   "cell_type": "code",
   "execution_count": null,
   "id": "930196a8",
   "metadata": {},
   "outputs": [],
   "source": [
    "%pip install -Uq openai-agents, nest_asyncio"
   ]
  },
  {
   "cell_type": "code",
   "execution_count": null,
   "id": "67663af6",
   "metadata": {},
   "outputs": [],
   "source": [
    "import nest_asyncio"
   ]
  },
  {
   "cell_type": "code",
   "execution_count": null,
   "id": "42305752",
   "metadata": {},
   "outputs": [],
   "source": [
    "import os\n",
    "from agents import Agent, Runner, OpenAIChatCompletionsModel\n",
    "from openai import AsyncOpenAI\n",
    "from dotenv import load_dotenv\n",
    "from google.colab import files"
   ]
  }
 ],
 "metadata": {
  "kernelspec": {
   "display_name": "tools",
   "language": "python",
   "name": "python3"
  },
  "language_info": {
   "name": "python",
   "version": "3.13.1"
  }
 },
 "nbformat": 4,
 "nbformat_minor": 5
}
